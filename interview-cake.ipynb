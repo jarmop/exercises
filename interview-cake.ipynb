{
 "cells": [
  {
   "cell_type": "markdown",
   "metadata": {},
   "source": [
    "Some interview questions from interview cake: "
   ]
  },
  {
   "cell_type": "markdown",
   "metadata": {},
   "source": [
    "## Question 1\n",
    "https://www.interviewcake.com/question/python/stock-price#"
   ]
  },
  {
   "cell_type": "code",
   "execution_count": 8,
   "metadata": {
    "collapsed": false
   },
   "outputs": [
    {
     "name": "stdout",
     "output_type": "stream",
     "text": [
      "-10\n"
     ]
    }
   ],
   "source": [
    "# (n^2+n)/2 roughly n^2\n",
    "def get_max_profit(stock_prices_yesterday):\n",
    "    no_largest_profit = True\n",
    "    largest_profit = 0\n",
    "    time = 0\n",
    "    open_time = len(stock_prices_yesterday)\n",
    "    while (time < open_time - 1): # n\n",
    "        buying_price = stock_prices_yesterday[time]\n",
    "        for i in range(time + 1, open_time): # n + n - 1 + n - 2 ... + 2 + 1\n",
    "            profit = stock_prices_yesterday[i] - buying_price\n",
    "            if (no_largest_profit or profit > largest_profit):\n",
    "                largest_profit = profit\n",
    "                no_largest_profit = False\n",
    "        time += 1\n",
    "    \n",
    "    return largest_profit\n",
    "\n",
    "#stock_prices_yesterday = [500, 490, 450, 470, 480];\n",
    "stock_prices_yesterday = [520, 510, 470, 460, 440];\n",
    "\n",
    "print(get_max_profit(stock_prices_yesterday))"
   ]
  },
  {
   "cell_type": "markdown",
   "metadata": {},
   "source": [
    "Cooler version of above, still (n^2)"
   ]
  },
  {
   "cell_type": "code",
   "execution_count": 17,
   "metadata": {
    "collapsed": false
   },
   "outputs": [
    {
     "name": "stdout",
     "output_type": "stream",
     "text": [
      "-10\n"
     ]
    }
   ],
   "source": [
    "def get_max_profit(stock_prices_yesterday):\n",
    "    max_profit = None\n",
    "    for earlier_time, earlier_price in enumerate(stock_prices_yesterday):\n",
    "        for later_price in stock_prices_yesterday[earlier_time + 1:]:\n",
    "            potential_profit = later_price - earlier_price\n",
    "            if max_profit is None:\n",
    "                max_profit = potential_profit\n",
    "            else:\n",
    "                max_profit = max(potential_profit, max_profit)\n",
    "                \n",
    "    return max_profit\n",
    "\n",
    "#stock_prices_yesterday = [500, 490, 450, 470, 480];\n",
    "stock_prices_yesterday = [520, 510, 470, 460, 440];\n",
    "\n",
    "print(get_max_profit(stock_prices_yesterday))"
   ]
  },
  {
   "cell_type": "markdown",
   "metadata": {},
   "source": [
    "Greedy approach O(n)"
   ]
  },
  {
   "cell_type": "code",
   "execution_count": 18,
   "metadata": {
    "collapsed": false
   },
   "outputs": [
    {
     "name": "stdout",
     "output_type": "stream",
     "text": [
      "30\n"
     ]
    }
   ],
   "source": [
    "def get_max_profit(stock_prices_yesterday):\n",
    "    if (len(stock_prices_yesterday) < 3):\n",
    "        raise ValueError('Less than two stock prices.')\n",
    "    \n",
    "    min_price = stock_prices_yesterday[0]\n",
    "    max_profit = stock_prices_yesterday[1] - min_price\n",
    "    min_price = min(stock_prices_yesterday[1], min_price)\n",
    "    for price in stock_prices_yesterday[2:]: # n\n",
    "        max_profit = max(price - min_price, max_profit) # 1\n",
    "        min_price = min(price, min_price) # 1\n",
    "                \n",
    "    return max_profit\n",
    "\n",
    "#stock_prices_yesterday = [500, 490, 450, 470, 480];\n",
    "stock_prices_yesterday = [520, 510, 470, 460, 440];\n",
    "\n",
    "print(get_max_profit(stock_prices_yesterday))"
   ]
  },
  {
   "cell_type": "markdown",
   "metadata": {},
   "source": [
    "Interview cake solution O(n)"
   ]
  },
  {
   "cell_type": "code",
   "execution_count": null,
   "metadata": {
    "collapsed": true
   },
   "outputs": [],
   "source": [
    "def get_max_profit(stock_prices_yesterday):\n",
    "\n",
    "    # make sure we have at least 2 prices\n",
    "    if len(stock_prices_yesterday) < 2:\n",
    "        raise IndexError('Getting a profit requires at least 2 prices')\n",
    "\n",
    "    # we'll greedily update min_price and max_profit, so we initialize\n",
    "    # them to the first price and the first possible profit\n",
    "    min_price = stock_prices_yesterday[0]\n",
    "    max_profit = stock_prices_yesterday[1] - stock_prices_yesterday[0]\n",
    "\n",
    "    for index, current_price in enumerate(stock_prices_yesterday):\n",
    "\n",
    "        # skip the first (0th) time\n",
    "        # we can't sell at the first time, since we must buy first,\n",
    "        # and we can't buy and sell at the same time!\n",
    "        # if we took this out, we'd try to buy /and/ sell at time 0.\n",
    "        # this would give a profit of 0, which is a problem if our\n",
    "        # max_profit is supposed to be /negative/--we'd return 0!\n",
    "        if index == 0:\n",
    "            continue\n",
    "\n",
    "        # see what our profit would be if we bought at the\n",
    "        # min price and sold at the current price\n",
    "        potential_profit = current_price - min_price\n",
    "\n",
    "        # update max_profit if we can do better\n",
    "        max_profit = max(max_profit, potential_profit)\n",
    "\n",
    "        # update min_price so it's always\n",
    "        # the lowest price we've seen so far\n",
    "        min_price  = min(min_price, current_price)\n",
    "\n",
    "    return max_profit"
   ]
  }
 ],
 "metadata": {
  "anaconda-cloud": {},
  "kernelspec": {
   "display_name": "Python [conda env:practice-problems]",
   "language": "python",
   "name": "conda-env-practice-problems-py"
  },
  "language_info": {
   "codemirror_mode": {
    "name": "ipython",
    "version": 3
   },
   "file_extension": ".py",
   "mimetype": "text/x-python",
   "name": "python",
   "nbconvert_exporter": "python",
   "pygments_lexer": "ipython3",
   "version": "3.5.2"
  }
 },
 "nbformat": 4,
 "nbformat_minor": 2
}
