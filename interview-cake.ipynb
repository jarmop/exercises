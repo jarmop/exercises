{
 "cells": [
  {
   "cell_type": "markdown",
   "metadata": {},
   "source": [
    "Some interview questions from interview cake: "
   ]
  },
  {
   "cell_type": "markdown",
   "metadata": {},
   "source": [
    "# Question 1 - Greedy\n",
    "https://www.interviewcake.com/question/python/stock-price#"
   ]
  },
  {
   "cell_type": "markdown",
   "metadata": {},
   "source": [
    "O((n^2+n)/2) roughly O(n^2)"
   ]
  },
  {
   "cell_type": "code",
   "execution_count": 8,
   "metadata": {
    "collapsed": false
   },
   "outputs": [
    {
     "name": "stdout",
     "output_type": "stream",
     "text": [
      "-10\n"
     ]
    }
   ],
   "source": [
    "def get_max_profit(stock_prices_yesterday):\n",
    "    no_largest_profit = True\n",
    "    largest_profit = 0\n",
    "    time = 0\n",
    "    open_time = len(stock_prices_yesterday)\n",
    "    while (time < open_time - 1): # n\n",
    "        buying_price = stock_prices_yesterday[time]\n",
    "        for i in range(time + 1, open_time): # n + n - 1 + n - 2 ... + 2 + 1\n",
    "            profit = stock_prices_yesterday[i] - buying_price\n",
    "            if (no_largest_profit or profit > largest_profit):\n",
    "                largest_profit = profit\n",
    "                no_largest_profit = False\n",
    "        time += 1\n",
    "    \n",
    "    return largest_profit\n",
    "\n",
    "#stock_prices_yesterday = [500, 490, 450, 470, 480];\n",
    "stock_prices_yesterday = [520, 510, 470, 460, 440];\n",
    "\n",
    "print(get_max_profit(stock_prices_yesterday))"
   ]
  },
  {
   "cell_type": "markdown",
   "metadata": {},
   "source": [
    "Cooler version of above, still O(n^2)"
   ]
  },
  {
   "cell_type": "code",
   "execution_count": 17,
   "metadata": {
    "collapsed": false
   },
   "outputs": [
    {
     "name": "stdout",
     "output_type": "stream",
     "text": [
      "-10\n"
     ]
    }
   ],
   "source": [
    "def get_max_profit(stock_prices_yesterday):\n",
    "    max_profit = None\n",
    "    for earlier_time, earlier_price in enumerate(stock_prices_yesterday):\n",
    "        for later_price in stock_prices_yesterday[earlier_time + 1:]:\n",
    "            potential_profit = later_price - earlier_price\n",
    "            if max_profit is None:\n",
    "                max_profit = potential_profit\n",
    "            else:\n",
    "                max_profit = max(potential_profit, max_profit)\n",
    "                \n",
    "    return max_profit\n",
    "\n",
    "#stock_prices_yesterday = [500, 490, 450, 470, 480];\n",
    "stock_prices_yesterday = [520, 510, 470, 460, 440];\n",
    "\n",
    "print(get_max_profit(stock_prices_yesterday))"
   ]
  },
  {
   "cell_type": "markdown",
   "metadata": {},
   "source": [
    "Greedy approach O(n) time, O(1) space"
   ]
  },
  {
   "cell_type": "code",
   "execution_count": 21,
   "metadata": {
    "collapsed": false
   },
   "outputs": [
    {
     "name": "stdout",
     "output_type": "stream",
     "text": [
      "-10\n"
     ]
    }
   ],
   "source": [
    "def get_max_profit(stock_prices_yesterday):\n",
    "    if (len(stock_prices_yesterday) < 2):\n",
    "        raise ValueError('Less than two stock prices.')\n",
    "    \n",
    "    min_price = stock_prices_yesterday[0]\n",
    "    max_profit = stock_prices_yesterday[1] - min_price\n",
    "    min_price = min(stock_prices_yesterday[1], min_price)\n",
    "    for price in stock_prices_yesterday[2:]: # n\n",
    "        max_profit = max(price - min_price, max_profit) # 1\n",
    "        min_price = min(price, min_price) # 1\n",
    "                \n",
    "    return max_profit\n",
    "\n",
    "#stock_prices_yesterday = [500, 490, 450, 470, 480];\n",
    "stock_prices_yesterday = [520, 510, 470, 460, 440];\n",
    "\n",
    "print(get_max_profit(stock_prices_yesterday))"
   ]
  },
  {
   "cell_type": "markdown",
   "metadata": {},
   "source": [
    "Interview cake solution O(n) time, O(1) space"
   ]
  },
  {
   "cell_type": "markdown",
   "metadata": {},
   "source": [
    "# Question 2 - Dynamic programming\n",
    "https://www.interviewcake.com/question/python/product-of-other-numbers"
   ]
  },
  {
   "cell_type": "markdown",
   "metadata": {},
   "source": [
    "O(n^2)"
   ]
  },
  {
   "cell_type": "code",
   "execution_count": 34,
   "metadata": {
    "collapsed": false
   },
   "outputs": [
    {
     "data": {
      "text/plain": [
       "[84, 12, 28, 21]"
      ]
     },
     "execution_count": 34,
     "metadata": {},
     "output_type": "execute_result"
    }
   ],
   "source": [
    "def get_products_of_all_ints_except_at_index(values):\n",
    "    products = []\n",
    "    for i in range(0, len(values)):\n",
    "        product = 1\n",
    "        for j, value in enumerate(values):\n",
    "            if (i is not j and value is not 0):\n",
    "                product *= value\n",
    "        products.append(product) \n",
    "    return products\n",
    "    \n",
    "values = [1, 7, 3, 4]\n",
    "get_products_of_all_ints_except_at_index(values)"
   ]
  },
  {
   "cell_type": "markdown",
   "metadata": {},
   "source": [
    "O(3n) time, essentially O(n)\n",
    "O(2n) space, essentially O(n)"
   ]
  },
  {
   "cell_type": "code",
   "execution_count": 49,
   "metadata": {
    "collapsed": false
   },
   "outputs": [
    {
     "data": {
      "text/plain": [
       "[84, 12, 28, 21]"
      ]
     },
     "execution_count": 49,
     "metadata": {},
     "output_type": "execute_result"
    }
   ],
   "source": [
    "def get_products_of_all_ints_except_at_index(values):\n",
    "    products_before = [1 for value in values] # [1, 1, 7, 21]\n",
    "    products_after = [1 for value in values] # [84, 12, 4, 1]\n",
    "    n = len(values)\n",
    "    for i in range(0, n - 1): \n",
    "        products_before[i + 1] = products_before[i] * values[i]\n",
    "    for i in range(n - 1, 0, -1):\n",
    "        products_after[i - 1] = products_after[i] * values[i]\n",
    "    products = []\n",
    "    for i in range(0, n):\n",
    "        products.append(products_before[i] * products_after[i])\n",
    "    \n",
    "    return products\n",
    "    \n",
    "values = [1, 7, 3, 4]\n",
    "get_products_of_all_ints_except_at_index(values)"
   ]
  },
  {
   "cell_type": "markdown",
   "metadata": {},
   "source": [
    "Interview cake solution only needs two loops instead of three above."
   ]
  },
  {
   "cell_type": "code",
   "execution_count": null,
   "metadata": {
    "collapsed": true
   },
   "outputs": [],
   "source": [
    "def get_products_of_all_ints_except_at_index(values):\n",
    "    \n",
    "values = [1, 7, 3, 4]\n",
    "get_products_of_all_ints_except_at_index(values)"
   ]
  }
 ],
 "metadata": {
  "anaconda-cloud": {},
  "kernelspec": {
   "display_name": "Python [conda env:practice-problems]",
   "language": "python",
   "name": "conda-env-practice-problems-py"
  },
  "language_info": {
   "codemirror_mode": {
    "name": "ipython",
    "version": 3
   },
   "file_extension": ".py",
   "mimetype": "text/x-python",
   "name": "python",
   "nbconvert_exporter": "python",
   "pygments_lexer": "ipython3",
   "version": "3.5.2"
  }
 },
 "nbformat": 4,
 "nbformat_minor": 2
}
