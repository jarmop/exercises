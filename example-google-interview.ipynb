{
 "cells": [
  {
   "cell_type": "markdown",
   "metadata": {},
   "source": [
    "# Google example interview"
   ]
  },
  {
   "cell_type": "markdown",
   "metadata": {},
   "source": [
    "## Interview 2"
   ]
  },
  {
   "cell_type": "markdown",
   "metadata": {},
   "source": [
    "### Phone screen"
   ]
  },
  {
   "cell_type": "code",
   "execution_count": 26,
   "metadata": {
    "collapsed": false
   },
   "outputs": [
    {
     "name": "stdout",
     "output_type": "stream",
     "text": [
      "print\n",
      "6\n",
      "10\n",
      "11\n",
      "7\n",
      "print\n",
      "1\n",
      "5\n",
      "9\n",
      "13\n",
      "14\n",
      "15\n",
      "16\n",
      "12\n",
      "8\n",
      "4\n",
      "3\n",
      "2\n"
     ]
    }
   ],
   "source": [
    "def print_outer_ring(matrix, start, end):\n",
    "    j = start\n",
    "    for i in range(start, end + 1):\n",
    "        print(matrix[i][j])\n",
    "    i = end    \n",
    "    for j in range(start + 1, end + 1):\n",
    "        print(matrix[i][j])\n",
    "    j = end    \n",
    "    for i in range(end - 1, start - 1, -1):\n",
    "        print(matrix[i][j])\n",
    "    i = start    \n",
    "    for j in range(end - 1, start, -1):\n",
    "        print(matrix[i][j])\n",
    "\n",
    "matrix = [\n",
    "    [1,2,3,4],\n",
    "    [5,6,7,8],\n",
    "    [9,10,11,12],\n",
    "    [13,14,15,16]\n",
    "]\n",
    "#matrix = [\n",
    "#    [1,2,3,4,5],\n",
    "#    [6,7,8,9,10],\n",
    "#    [11,12,13,14,15],\n",
    "#    [16,17,18,19,20],\n",
    "#    [21,22,23,24,25],\n",
    "#]\n",
    "\n",
    "n = len(matrix)\n",
    "start = int(n / 2 - 1)\n",
    "if (n % 2 == 0):\n",
    "    end = start + 1\n",
    "else:\n",
    "    print(matrix[start + 1][start + 1])\n",
    "    end = start + 2\n",
    "\n",
    "#print(start)\n",
    "#print(end)\n",
    "for i in range (start, -1, -1):\n",
    "    print(\"print\")\n",
    "    print_outer_ring(matrix, i, end)\n",
    "    end += 1"
   ]
  }
 ],
 "metadata": {
  "anaconda-cloud": {},
  "kernelspec": {
   "display_name": "Python [conda env:practice-problems]",
   "language": "python",
   "name": "conda-env-practice-problems-py"
  },
  "language_info": {
   "codemirror_mode": {
    "name": "ipython",
    "version": 3
   },
   "file_extension": ".py",
   "mimetype": "text/x-python",
   "name": "python",
   "nbconvert_exporter": "python",
   "pygments_lexer": "ipython3",
   "version": "3.5.2"
  }
 },
 "nbformat": 4,
 "nbformat_minor": 2
}
