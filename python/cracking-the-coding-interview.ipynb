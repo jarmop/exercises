{
 "cells": [
  {
   "cell_type": "markdown",
   "metadata": {},
   "source": [
    "# 1.1 Is Unique\n",
    "\n",
    "O(n)"
   ]
  },
  {
   "cell_type": "code",
   "execution_count": 2,
   "metadata": {
    "collapsed": false
   },
   "outputs": [
    {
     "data": {
      "text/plain": [
       "False"
      ]
     },
     "execution_count": 2,
     "metadata": {},
     "output_type": "execute_result"
    }
   ],
   "source": [
    "def is_unique(str):\n",
    "    uniqueChars = set()\n",
    "    for char in str:\n",
    "        if char in uniqueChars:\n",
    "            return False\n",
    "        else:\n",
    "            uniqueChars.add(char)\n",
    "        \n",
    "    return True\n",
    "    \n",
    "is_unique('abca')"
   ]
  },
  {
   "cell_type": "markdown",
   "metadata": {},
   "source": [
    "# 1.2 Check Permutation\n",
    "\n",
    "O(n log n)"
   ]
  },
  {
   "cell_type": "code",
   "execution_count": 3,
   "metadata": {
    "collapsed": false
   },
   "outputs": [
    {
     "data": {
      "text/plain": [
       "False"
      ]
     },
     "execution_count": 3,
     "metadata": {},
     "output_type": "execute_result"
    }
   ],
   "source": [
    "def check_permutation(str1, str2):\n",
    "    if len(str1) != len(str2):\n",
    "        return False\n",
    "    \n",
    "    return sorted(str1) == sorted(str2)\n",
    "    \n",
    "check_permutation('cbr', 'bca')"
   ]
  },
  {
   "cell_type": "markdown",
   "metadata": {
    "collapsed": true
   },
   "source": [
    "O(n)\n",
    "Count amounts for each unique characters.\n",
    "\n",
    "With an array:"
   ]
  },
  {
   "cell_type": "code",
   "execution_count": 19,
   "metadata": {
    "collapsed": false
   },
   "outputs": [
    {
     "data": {
      "text/plain": [
       "True"
      ]
     },
     "execution_count": 19,
     "metadata": {},
     "output_type": "execute_result"
    }
   ],
   "source": [
    "def check_permutation(str1, str2):\n",
    "    if len(str1) != len(str2):\n",
    "        return False\n",
    "    \n",
    "    uniqueChars1 = [0 for i in range(0,256)]\n",
    "    uniqueChars2 = [0 for i in range(0,256)]\n",
    "    for i in range(0, len(str1)):\n",
    "        uniqueChars1[ord(str1[i])] += 1\n",
    "        uniqueChars2[ord(str2[i])] += 1\n",
    "    \n",
    "    return uniqueChars1 == uniqueChars2\n",
    "    \n",
    "check_permutation('cba', 'bca')"
   ]
  },
  {
   "cell_type": "markdown",
   "metadata": {},
   "source": [
    "With a hash table"
   ]
  },
  {
   "cell_type": "code",
   "execution_count": 27,
   "metadata": {
    "collapsed": false
   },
   "outputs": [
    {
     "data": {
      "text/plain": [
       "False"
      ]
     },
     "execution_count": 27,
     "metadata": {},
     "output_type": "execute_result"
    }
   ],
   "source": [
    "def check_permutation(str1, str2):\n",
    "    if len(str1) != len(str2):\n",
    "        return False\n",
    "    \n",
    "    uniqueChars1 = {}\n",
    "    uniqueChars2 = {}\n",
    "    for i in range(0, len(str1)):\n",
    "        uniqueChars1.setdefault(str1[i], 0)\n",
    "        uniqueChars2.setdefault(str2[i], 0)\n",
    "        uniqueChars1[str1[i]] += 1\n",
    "        uniqueChars2[str2[i]] += 1\n",
    "    \n",
    "    return uniqueChars1 == uniqueChars2\n",
    "    \n",
    "check_permutation('cba', 'bca ')"
   ]
  }
 ],
 "metadata": {
  "anaconda-cloud": {},
  "kernelspec": {
   "display_name": "Python [conda env:practice-problems]",
   "language": "python",
   "name": "conda-env-practice-problems-py"
  },
  "language_info": {
   "codemirror_mode": {
    "name": "ipython",
    "version": 3
   },
   "file_extension": ".py",
   "mimetype": "text/x-python",
   "name": "python",
   "nbconvert_exporter": "python",
   "pygments_lexer": "ipython3",
   "version": "3.5.2"
  }
 },
 "nbformat": 4,
 "nbformat_minor": 2
}
