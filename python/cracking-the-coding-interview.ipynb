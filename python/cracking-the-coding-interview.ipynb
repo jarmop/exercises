{
 "cells": [
  {
   "cell_type": "markdown",
   "metadata": {},
   "source": [
    "# 1.1 Is Unique\n",
    "\n",
    "O(n)"
   ]
  },
  {
   "cell_type": "code",
   "execution_count": 9,
   "metadata": {
    "collapsed": false
   },
   "outputs": [
    {
     "data": {
      "text/plain": [
       "False"
      ]
     },
     "execution_count": 9,
     "metadata": {},
     "output_type": "execute_result"
    }
   ],
   "source": [
    "def is_unique(str):\n",
    "    uniqueChars = set()\n",
    "    for char in str:\n",
    "        if char in uniqueChars:\n",
    "            return False\n",
    "        else:\n",
    "            uniqueChars.add(char)\n",
    "        \n",
    "    return True\n",
    "    \n",
    "isUnique('abca')"
   ]
  },
  {
   "cell_type": "markdown",
   "metadata": {},
   "source": [
    "# 1.2 Check Permutation\n",
    "\n",
    "O(n log n)"
   ]
  },
  {
   "cell_type": "code",
   "execution_count": 15,
   "metadata": {
    "collapsed": false
   },
   "outputs": [
    {
     "data": {
      "text/plain": [
       "False"
      ]
     },
     "execution_count": 15,
     "metadata": {},
     "output_type": "execute_result"
    }
   ],
   "source": [
    "def check_permutation(str1, str2):\n",
    "    if len(str1) != len(str2):\n",
    "        return False\n",
    "    \n",
    "    return sorted(str1) == sorted(str2)\n",
    "    \n",
    "check_permutation('cbr', 'bca')"
   ]
  },
  {
   "cell_type": "code",
   "execution_count": null,
   "metadata": {
    "collapsed": true
   },
   "outputs": [],
   "source": []
  }
 ],
 "metadata": {
  "anaconda-cloud": {},
  "kernelspec": {
   "display_name": "Python [conda env:practice-problems]",
   "language": "python",
   "name": "conda-env-practice-problems-py"
  },
  "language_info": {
   "codemirror_mode": {
    "name": "ipython",
    "version": 3
   },
   "file_extension": ".py",
   "mimetype": "text/x-python",
   "name": "python",
   "nbconvert_exporter": "python",
   "pygments_lexer": "ipython3",
   "version": "3.5.2"
  }
 },
 "nbformat": 4,
 "nbformat_minor": 2
}
