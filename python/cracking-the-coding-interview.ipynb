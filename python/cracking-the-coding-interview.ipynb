{
 "cells": [
  {
   "cell_type": "markdown",
   "metadata": {},
   "source": [
    "# 1.1 Is Unique\n",
    "\n",
    "O(n)"
   ]
  },
  {
   "cell_type": "code",
   "execution_count": 2,
   "metadata": {
    "collapsed": false
   },
   "outputs": [
    {
     "data": {
      "text/plain": [
       "False"
      ]
     },
     "execution_count": 2,
     "metadata": {},
     "output_type": "execute_result"
    }
   ],
   "source": [
    "def is_unique(str):\n",
    "    uniqueChars = set()\n",
    "    for char in str:\n",
    "        if char in uniqueChars:\n",
    "            return False\n",
    "        else:\n",
    "            uniqueChars.add(char)\n",
    "        \n",
    "    return True\n",
    "    \n",
    "is_unique('abca')"
   ]
  },
  {
   "cell_type": "markdown",
   "metadata": {},
   "source": [
    "# 1.2 Check Permutation\n",
    "\n",
    "O(n log n)"
   ]
  },
  {
   "cell_type": "code",
   "execution_count": 3,
   "metadata": {
    "collapsed": false
   },
   "outputs": [
    {
     "data": {
      "text/plain": [
       "False"
      ]
     },
     "execution_count": 3,
     "metadata": {},
     "output_type": "execute_result"
    }
   ],
   "source": [
    "def check_permutation(str1, str2):\n",
    "    if len(str1) != len(str2):\n",
    "        return False\n",
    "    \n",
    "    return sorted(str1) == sorted(str2)\n",
    "    \n",
    "check_permutation('cbr', 'bca')"
   ]
  },
  {
   "cell_type": "markdown",
   "metadata": {
    "collapsed": true
   },
   "source": [
    "O(n)\n",
    "Count amounts for each unique characters.\n",
    "\n",
    "With an array:"
   ]
  },
  {
   "cell_type": "code",
   "execution_count": 19,
   "metadata": {
    "collapsed": false
   },
   "outputs": [
    {
     "data": {
      "text/plain": [
       "True"
      ]
     },
     "execution_count": 19,
     "metadata": {},
     "output_type": "execute_result"
    }
   ],
   "source": [
    "def check_permutation(str1, str2):\n",
    "    if len(str1) != len(str2):\n",
    "        return False\n",
    "    \n",
    "    uniqueChars1 = [0 for i in range(0,256)]\n",
    "    uniqueChars2 = [0 for i in range(0,256)]\n",
    "    for i in range(0, len(str1)):\n",
    "        uniqueChars1[ord(str1[i])] += 1\n",
    "        uniqueChars2[ord(str2[i])] += 1\n",
    "    \n",
    "    return uniqueChars1 == uniqueChars2\n",
    "    \n",
    "check_permutation('cba', 'bca')"
   ]
  },
  {
   "cell_type": "markdown",
   "metadata": {},
   "source": [
    "With a hash table:"
   ]
  },
  {
   "cell_type": "code",
   "execution_count": 27,
   "metadata": {
    "collapsed": false
   },
   "outputs": [
    {
     "data": {
      "text/plain": [
       "False"
      ]
     },
     "execution_count": 27,
     "metadata": {},
     "output_type": "execute_result"
    }
   ],
   "source": [
    "def check_permutation(str1, str2):\n",
    "    if len(str1) != len(str2):\n",
    "        return False\n",
    "    \n",
    "    uniqueChars1 = {}\n",
    "    uniqueChars2 = {}\n",
    "    for i in range(0, len(str1)):\n",
    "        uniqueChars1.setdefault(str1[i], 0)\n",
    "        uniqueChars2.setdefault(str2[i], 0)\n",
    "        uniqueChars1[str1[i]] += 1\n",
    "        uniqueChars2[str2[i]] += 1\n",
    "    \n",
    "    return uniqueChars1 == uniqueChars2\n",
    "    \n",
    "check_permutation('cba', 'bca ')"
   ]
  },
  {
   "cell_type": "markdown",
   "metadata": {},
   "source": [
    "# 1.3 URLify\n",
    "\n",
    "O(n) time, O(n) space"
   ]
  },
  {
   "cell_type": "code",
   "execution_count": 31,
   "metadata": {
    "collapsed": false
   },
   "outputs": [
    {
     "data": {
      "text/plain": [
       "'Mr%20John%20Smith'"
      ]
     },
     "execution_count": 31,
     "metadata": {},
     "output_type": "execute_result"
    }
   ],
   "source": [
    "def url_encode(url):\n",
    "    url_encoded = '';\n",
    "    for char in url:\n",
    "        if (char is ' '):\n",
    "            url_encoded += '%20'\n",
    "        else:\n",
    "            url_encoded += char\n",
    "    return url_encoded\n",
    "    \n",
    "url_encode('Mr John Smith')"
   ]
  },
  {
   "cell_type": "markdown",
   "metadata": {},
   "source": [
    "O(n) time, O(1) space"
   ]
  },
  {
   "cell_type": "code",
   "execution_count": 37,
   "metadata": {
    "collapsed": false
   },
   "outputs": [
    {
     "data": {
      "text/plain": [
       "'Mr%20John%20Smith'"
      ]
     },
     "execution_count": 37,
     "metadata": {},
     "output_type": "execute_result"
    }
   ],
   "source": [
    "def url_encode(url):\n",
    "    for i in range(len(url) - 1, -1, -1):\n",
    "        if (url[i] is ' '):\n",
    "            url = url[0:i] + '%20' + url[i + 1:]\n",
    "    return url\n",
    "    \n",
    "url_encode('Mr John Smith')"
   ]
  },
  {
   "cell_type": "markdown",
   "metadata": {},
   "source": [
    "# 1.4 Palindrome Permutation"
   ]
  },
  {
   "cell_type": "markdown",
   "metadata": {},
   "source": [
    "O(n log n)"
   ]
  },
  {
   "cell_type": "code",
   "execution_count": 48,
   "metadata": {
    "collapsed": false
   },
   "outputs": [
    {
     "data": {
      "text/plain": [
       "True"
      ]
     },
     "execution_count": 48,
     "metadata": {},
     "output_type": "execute_result"
    }
   ],
   "source": [
    "def is_palindrome_permutation(str):\n",
    "    str = sorted(str)\n",
    "    char_count = 1\n",
    "    odd_char_count_found = False\n",
    "    for i in range(1, len(str)):\n",
    "        if str[i] != str[i - 1]:\n",
    "            if char_count % 2 != 0:\n",
    "                if odd_char_count_found:\n",
    "                    return False\n",
    "                odd_char_count_found = True\n",
    "            char_count = 1\n",
    "        else:\n",
    "            char_count += 1\n",
    "    return True\n",
    "\n",
    "is_palindrome_permutation('aabcaab')"
   ]
  },
  {
   "cell_type": "markdown",
   "metadata": {},
   "source": [
    "O(n)"
   ]
  },
  {
   "cell_type": "code",
   "execution_count": 65,
   "metadata": {
    "collapsed": false
   },
   "outputs": [
    {
     "ename": "TypeError",
     "evalue": "'str' object is not callable",
     "output_type": "error",
     "traceback": [
      "\u001b[0;31m---------------------------------------------------------------------------\u001b[0m",
      "\u001b[0;31mTypeError\u001b[0m                                 Traceback (most recent call last)",
      "\u001b[0;32m<ipython-input-65-7f156823619d>\u001b[0m in \u001b[0;36m<module>\u001b[0;34m()\u001b[0m\n\u001b[1;32m     29\u001b[0m \u001b[0;34m\u001b[0m\u001b[0m\n\u001b[1;32m     30\u001b[0m \u001b[0mis_alpha\u001b[0m\u001b[0;34m(\u001b[0m\u001b[0;34m'd'\u001b[0m\u001b[0;34m)\u001b[0m\u001b[0;34m\u001b[0m\u001b[0m\n\u001b[0;32m---> 31\u001b[0;31m \u001b[0malpha_to_lower\u001b[0m\u001b[0;34m(\u001b[0m\u001b[0;34m'D'\u001b[0m\u001b[0;34m)\u001b[0m\u001b[0;34m\u001b[0m\u001b[0m\n\u001b[0m",
      "\u001b[0;32m<ipython-input-65-7f156823619d>\u001b[0m in \u001b[0;36malpha_to_lower\u001b[0;34m(char)\u001b[0m\n\u001b[1;32m      8\u001b[0m         \u001b[0;32mreturn\u001b[0m \u001b[0mchar\u001b[0m\u001b[0;34m\u001b[0m\u001b[0m\n\u001b[1;32m      9\u001b[0m \u001b[0;34m\u001b[0m\u001b[0m\n\u001b[0;32m---> 10\u001b[0;31m     \u001b[0;32mreturn\u001b[0m \u001b[0mchar\u001b[0m\u001b[0;34m(\u001b[0m\u001b[0municode_code_point\u001b[0m \u001b[0;34m+\u001b[0m \u001b[0;36m32\u001b[0m\u001b[0;34m)\u001b[0m\u001b[0;34m\u001b[0m\u001b[0m\n\u001b[0m\u001b[1;32m     11\u001b[0m \u001b[0;34m\u001b[0m\u001b[0m\n\u001b[1;32m     12\u001b[0m \u001b[0;32mdef\u001b[0m \u001b[0mis_palindrome_permutation\u001b[0m\u001b[0;34m(\u001b[0m\u001b[0mstr\u001b[0m\u001b[0;34m)\u001b[0m\u001b[0;34m:\u001b[0m\u001b[0;34m\u001b[0m\u001b[0m\n",
      "\u001b[0;31mTypeError\u001b[0m: 'str' object is not callable"
     ]
    }
   ],
   "source": [
    "def is_alpha(char):\n",
    "    unicode_code_point = ord(char)\n",
    "    return (unicode_code_point >= 65 and unicode_code_point <= 90) or (unicode_code_point >= 97 and unicode_code_point <= 122)\n",
    "\n",
    "def alpha_to_lower(char):\n",
    "    unicode_code_point = ord(char)\n",
    "    if unicode_code_point > 90:\n",
    "        return char\n",
    "    \n",
    "    return char(unicode_code_point + 32)\n",
    "\n",
    "def is_palindrome_permutation(str):\n",
    "    char_counts = {}\n",
    "    for char in str:\n",
    "        if (is_alpha(char)):\n",
    "            char_counts.setdefault(char, 0)\n",
    "            char_counts[char] += 1\n",
    "    \n",
    "    odd_char_count_found = False\n",
    "    for char, count in char_counts.items():\n",
    "        if count % 2 != 0:\n",
    "            if odd_char_count_found:\n",
    "                return False\n",
    "            odd_char_count_found = True\n",
    "            \n",
    "    return True\n",
    "    \n",
    "#is_palindrome_permutation('Aabcaab')\n",
    "\n",
    "is_alpha('d')\n",
    "alpha_to_lower('D')"
   ]
  }
 ],
 "metadata": {
  "anaconda-cloud": {},
  "kernelspec": {
   "display_name": "Python [conda env:practice-problems]",
   "language": "python",
   "name": "conda-env-practice-problems-py"
  },
  "language_info": {
   "codemirror_mode": {
    "name": "ipython",
    "version": 3
   },
   "file_extension": ".py",
   "mimetype": "text/x-python",
   "name": "python",
   "nbconvert_exporter": "python",
   "pygments_lexer": "ipython3",
   "version": "3.5.2"
  }
 },
 "nbformat": 4,
 "nbformat_minor": 2
}
