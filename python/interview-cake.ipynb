{
 "cells": [
  {
   "cell_type": "markdown",
   "metadata": {},
   "source": [
    "Some interview questions from interview cake: "
   ]
  },
  {
   "cell_type": "markdown",
   "metadata": {},
   "source": [
    "# Question 1 - Greedy\n",
    "https://www.interviewcake.com/question/python/stock-price#"
   ]
  },
  {
   "cell_type": "markdown",
   "metadata": {},
   "source": [
    "O((n^2+n)/2) roughly O(n^2)"
   ]
  },
  {
   "cell_type": "code",
   "execution_count": 8,
   "metadata": {
    "collapsed": false
   },
   "outputs": [
    {
     "name": "stdout",
     "output_type": "stream",
     "text": [
      "-10\n"
     ]
    }
   ],
   "source": [
    "def get_max_profit(stock_prices_yesterday):\n",
    "    no_largest_profit = True\n",
    "    largest_profit = 0\n",
    "    time = 0\n",
    "    open_time = len(stock_prices_yesterday)\n",
    "    while (time < open_time - 1): # n\n",
    "        buying_price = stock_prices_yesterday[time]\n",
    "        for i in range(time + 1, open_time): # n + n - 1 + n - 2 ... + 2 + 1\n",
    "            profit = stock_prices_yesterday[i] - buying_price\n",
    "            if (no_largest_profit or profit > largest_profit):\n",
    "                largest_profit = profit\n",
    "                no_largest_profit = False\n",
    "        time += 1\n",
    "    \n",
    "    return largest_profit\n",
    "\n",
    "#stock_prices_yesterday = [500, 490, 450, 470, 480];\n",
    "stock_prices_yesterday = [520, 510, 470, 460, 440];\n",
    "\n",
    "print(get_max_profit(stock_prices_yesterday))"
   ]
  },
  {
   "cell_type": "markdown",
   "metadata": {},
   "source": [
    "Cooler version of above, still O(n^2)"
   ]
  },
  {
   "cell_type": "code",
   "execution_count": 17,
   "metadata": {
    "collapsed": false
   },
   "outputs": [
    {
     "name": "stdout",
     "output_type": "stream",
     "text": [
      "-10\n"
     ]
    }
   ],
   "source": [
    "def get_max_profit(stock_prices_yesterday):\n",
    "    max_profit = None\n",
    "    for earlier_time, earlier_price in enumerate(stock_prices_yesterday):\n",
    "        for later_price in stock_prices_yesterday[earlier_time + 1:]:\n",
    "            potential_profit = later_price - earlier_price\n",
    "            if max_profit is None:\n",
    "                max_profit = potential_profit\n",
    "            else:\n",
    "                max_profit = max(potential_profit, max_profit)\n",
    "                \n",
    "    return max_profit\n",
    "\n",
    "#stock_prices_yesterday = [500, 490, 450, 470, 480];\n",
    "stock_prices_yesterday = [520, 510, 470, 460, 440];\n",
    "\n",
    "print(get_max_profit(stock_prices_yesterday))"
   ]
  },
  {
   "cell_type": "markdown",
   "metadata": {},
   "source": [
    "Greedy approach O(n) time, O(1) space"
   ]
  },
  {
   "cell_type": "code",
   "execution_count": 21,
   "metadata": {
    "collapsed": false
   },
   "outputs": [
    {
     "name": "stdout",
     "output_type": "stream",
     "text": [
      "-10\n"
     ]
    }
   ],
   "source": [
    "def get_max_profit(stock_prices_yesterday):\n",
    "    if (len(stock_prices_yesterday) < 2):\n",
    "        raise ValueError('Less than two stock prices.')\n",
    "    \n",
    "    min_price = stock_prices_yesterday[0]\n",
    "    max_profit = stock_prices_yesterday[1] - min_price\n",
    "    min_price = min(stock_prices_yesterday[1], min_price)\n",
    "    for price in stock_prices_yesterday[2:]: # n\n",
    "        max_profit = max(price - min_price, max_profit) # 1\n",
    "        min_price = min(price, min_price) # 1\n",
    "                \n",
    "    return max_profit\n",
    "\n",
    "#stock_prices_yesterday = [500, 490, 450, 470, 480];\n",
    "stock_prices_yesterday = [520, 510, 470, 460, 440];\n",
    "\n",
    "print(get_max_profit(stock_prices_yesterday))"
   ]
  },
  {
   "cell_type": "markdown",
   "metadata": {},
   "source": [
    "Interview cake solution O(n) time, O(1) space"
   ]
  },
  {
   "cell_type": "markdown",
   "metadata": {},
   "source": [
    "# Question 2 - Greedy\n",
    "https://www.interviewcake.com/question/python/product-of-other-numbers"
   ]
  },
  {
   "cell_type": "markdown",
   "metadata": {},
   "source": [
    "O(n^2)"
   ]
  },
  {
   "cell_type": "code",
   "execution_count": 34,
   "metadata": {
    "collapsed": false
   },
   "outputs": [
    {
     "data": {
      "text/plain": [
       "[84, 12, 28, 21]"
      ]
     },
     "execution_count": 34,
     "metadata": {},
     "output_type": "execute_result"
    }
   ],
   "source": [
    "def get_products_of_all_ints_except_at_index(values):\n",
    "    products = []\n",
    "    for i in range(0, len(values)):\n",
    "        product = 1\n",
    "        for j, value in enumerate(values):\n",
    "            if (i is not j and value is not 0):\n",
    "                product *= value\n",
    "        products.append(product) \n",
    "    return products\n",
    "    \n",
    "values = [1, 7, 3, 4]\n",
    "get_products_of_all_ints_except_at_index(values)"
   ]
  },
  {
   "cell_type": "markdown",
   "metadata": {},
   "source": [
    "O(3n) time, essentially O(n)\n",
    "O(2n) space, essentially O(n)"
   ]
  },
  {
   "cell_type": "code",
   "execution_count": 49,
   "metadata": {
    "collapsed": false
   },
   "outputs": [
    {
     "data": {
      "text/plain": [
       "[84, 12, 28, 21]"
      ]
     },
     "execution_count": 49,
     "metadata": {},
     "output_type": "execute_result"
    }
   ],
   "source": [
    "def get_products_of_all_ints_except_at_index(values):\n",
    "    products_before = [1 for value in values] # [1, 1, 7, 21]\n",
    "    products_after = [1 for value in values] # [84, 12, 4, 1]\n",
    "    n = len(values)\n",
    "    for i in range(0, n - 1): \n",
    "        products_before[i + 1] = products_before[i] * values[i]\n",
    "    for i in range(n - 1, 0, -1):\n",
    "        products_after[i - 1] = products_after[i] * values[i]\n",
    "    products = []\n",
    "    for i in range(0, n):\n",
    "        products.append(products_before[i] * products_after[i])\n",
    "    \n",
    "    return products\n",
    "    \n",
    "values = [1, 7, 3, 4]\n",
    "get_products_of_all_ints_except_at_index(values)"
   ]
  },
  {
   "cell_type": "markdown",
   "metadata": {},
   "source": [
    "Interview cake solution only needs two loops instead of three above. O(2n) time, O(n) space."
   ]
  },
  {
   "cell_type": "code",
   "execution_count": 57,
   "metadata": {
    "collapsed": false
   },
   "outputs": [
    {
     "data": {
      "text/plain": [
       "[84, 12, 28, 21]"
      ]
     },
     "execution_count": 57,
     "metadata": {},
     "output_type": "execute_result"
    }
   ],
   "source": [
    "def get_products_of_all_ints_except_at_index(values):\n",
    "    products = [None for value in values]\n",
    "    product_so_far = 1\n",
    "    for i in range(0, len(values)):\n",
    "        products[i] = product_so_far\n",
    "        product_so_far *= values[i]   \n",
    "        \n",
    "    product_so_far = 1\n",
    "    for i in range(len(values) - 1, -1, -1):\n",
    "        products[i] *= product_so_far\n",
    "        product_so_far *= values[i]\n",
    "        \n",
    "    return products    \n",
    "    \n",
    "values = [1, 7, 3, 4]\n",
    "get_products_of_all_ints_except_at_index(values)"
   ]
  },
  {
   "cell_type": "markdown",
   "metadata": {},
   "source": [
    "\"So that's a pattern that can be applied to other problems: Start with a brute force solution, look for repeat work in that solution, and modify it to only do that work once.\""
   ]
  },
  {
   "cell_type": "markdown",
   "metadata": {},
   "source": [
    "# Question 3\n",
    "https://www.interviewcake.com/question/python/highest-product-of-3"
   ]
  },
  {
   "cell_type": "markdown",
   "metadata": {},
   "source": [
    "Ugliest brute force would be O(n^3), but this can be achieved in O(3n) "
   ]
  },
  {
   "cell_type": "code",
   "execution_count": 2,
   "metadata": {
    "collapsed": false
   },
   "outputs": [
    {
     "name": "stdout",
     "output_type": "stream",
     "text": [
      "6\n"
     ]
    }
   ],
   "source": [
    "def get_highest_product(values):\n",
    "    three_largest = []\n",
    "    two_smallest_negative\n",
    "    for value in values:\n",
    "        n = len(three_largest)\n",
    "        for i in range(0,3):\n",
    "            if n < i + 1:\n",
    "                three_largest.append(value)\n",
    "                continue\n",
    "            if value > three_largest[i]:\n",
    "                temp = three_largest[i]\n",
    "                three_largest[i] = value\n",
    "                value = temp\n",
    "        \n",
    "    highest_product = 1    \n",
    "    for value in three_largest:\n",
    "        highest_product *= value\n",
    "        \n",
    "    return highest_product    \n",
    "\n",
    "#values = [1,2,5,2,7]\n",
    "values = [-10,-10,1,3,2]\n",
    "print(get_highest_product(values))"
   ]
  },
  {
   "cell_type": "markdown",
   "metadata": {},
   "source": [
    "O(5n)"
   ]
  },
  {
   "cell_type": "code",
   "execution_count": 50,
   "metadata": {
    "collapsed": false
   },
   "outputs": [
    {
     "name": "stdout",
     "output_type": "stream",
     "text": [
      "300\n"
     ]
    }
   ],
   "source": [
    "def get_highest_product(values):\n",
    "    three_largest = []\n",
    "    two_smallest = []\n",
    "    for value in values:\n",
    "        for i in range(0, 3):\n",
    "            if len(three_largest) < i + 1:\n",
    "                three_largest.append(value)\n",
    "                break\n",
    "            if value > three_largest[i]:\n",
    "                temp = three_largest[i]\n",
    "                three_largest[i] = value\n",
    "                value = temp\n",
    "        for i in range(0,2):\n",
    "            if len(two_smallest) < i + 1:\n",
    "                two_smallest.append(value)\n",
    "                break\n",
    "            if value < two_smallest[i]:\n",
    "                temp = two_smallest[i]\n",
    "                two_smallest[i] = value\n",
    "                value = temp\n",
    "    \n",
    "    highest_product = three_largest[0] * three_largest[1] * three_largest[2]\n",
    "    product_of_two_smallest = 0\n",
    "    if len(two_smallest) == 1:\n",
    "        product_of_two_smallest = three_largest[2] * two_smallest[0]\n",
    "    elif len(two_smallest) == 2:\n",
    "        product_of_two_smallest = two_smallest[0] * two_smallest[1]\n",
    "        \n",
    "    return max(highest_product, three_largest[0] * product_of_two_smallest)\n",
    "                \n",
    "                \n",
    "    \n",
    "#values = [1,2,5,2,7]\n",
    "#values = [-10,-10,1,3,2]\n",
    "#values = [-10,-10,-1,-3,-2]\n",
    "values = [-10,-10,1, 3]\n",
    "\n",
    "print(get_highest_product(values))"
   ]
  },
  {
   "cell_type": "markdown",
   "metadata": {},
   "source": [
    "# Question 4\n",
    "\n",
    "Calculating time complexity for a recursive function? However this recursive attempt doesn't work with more complex test set."
   ]
  },
  {
   "cell_type": "code",
   "execution_count": 71,
   "metadata": {
    "collapsed": false
   },
   "outputs": [
    {
     "data": {
      "text/plain": [
       "[(0, 5), (3, 8), (9, 12)]"
      ]
     },
     "execution_count": 71,
     "metadata": {},
     "output_type": "execute_result"
    }
   ],
   "source": [
    "def are_within(r1, r2):\n",
    "    return (r1[1] >= r2[1] and r1[0] <= r2[1]) or (r2[1] >= r1[1] and r2[0] <= r1[1])\n",
    "\n",
    "def merge_ranges(ranges):\n",
    "    if (len(ranges) == 1):\n",
    "        return ranges[0]\n",
    "    merged_ranges = []\n",
    "    non_merged = []\n",
    "    r1 = ranges[0]\n",
    "    lower = r1[0]\n",
    "    upper = r1[1]\n",
    "    for i in range(1, len(ranges)):\n",
    "        r2 = ranges[i]\n",
    "        if are_within(r1, r2):\n",
    "            lower = min(r1[0], r2[0])\n",
    "            upper = max(r1[1], r2[1])\n",
    "        else: \n",
    "            non_merged.append(r2)    \n",
    "    merged_ranges.append((lower, upper))\n",
    "    \n",
    "    if (len(non_merged) > 0):\n",
    "        merged_ranges = merged_ranges + recursive_merge(non_merged)\n",
    "        \n",
    "    return merged_ranges\n",
    "            \n",
    "    \n",
    "#ranges = [(0, 1), (3, 5), (4, 8), (10, 12), (9, 10)]\n",
    "ranges = [(0, 1), (3, 5), (4, 8), (1, 5), (10, 12), (9, 10)]\n",
    "merge_ranges(ranges)\n",
    "#are_within((6,8), (3,5))"
   ]
  },
  {
   "cell_type": "markdown",
   "metadata": {},
   "source": [
    "Sorting by start time gives O(2n log n)"
   ]
  },
  {
   "cell_type": "code",
   "execution_count": 84,
   "metadata": {
    "collapsed": false
   },
   "outputs": [
    {
     "name": "stdout",
     "output_type": "stream",
     "text": [
      "[(0, 8), (9, 12)]\n"
     ]
    }
   ],
   "source": [
    "def merge_ranges(meetings):\n",
    "    sorted_meetings = sorted(meetings)\n",
    "    merged_meetings = []\n",
    "    merged_lower = meetings[0][0]\n",
    "    merged_upper = meetings[0][1]\n",
    "    \n",
    "    for meeting in sorted_meetings[1:]:\n",
    "        if meeting[0] <= merged_upper:\n",
    "            merged_upper = max(merged_upper, meeting[1])\n",
    "        else:\n",
    "            merged_meetings.append((merged_lower, merged_upper))\n",
    "            merged_lower = meeting[0]\n",
    "            merged_upper = meeting[1]\n",
    "    merged_meetings.append((merged_lower, merged_upper))\n",
    "    \n",
    "    return merged_meetings\n",
    "\n",
    "#meetings = [(0, 1), (3, 5), (4, 8), (9, 10), (10, 12), (13, 15)]\n",
    "#meetings = [(0, 1), (3, 5), (4, 8), (10, 12), (9, 10)]\n",
    "#meetings = [(0, 1), (3, 5), (4, 8), (1, 5), (10, 12), (9, 10)]\n",
    "print(merge_ranges(meetings))    "
   ]
  },
  {
   "cell_type": "markdown",
   "metadata": {},
   "source": [
    "# Question 5 - Dynamic programming, memoization"
   ]
  },
  {
   "cell_type": "markdown",
   "metadata": {},
   "source": [
    "Nice recursion attempt but this calculates some combinations twice"
   ]
  },
  {
   "cell_type": "code",
   "execution_count": 87,
   "metadata": {
    "collapsed": false
   },
   "outputs": [
    {
     "name": "stdout",
     "output_type": "stream",
     "text": [
      "10\n"
     ]
    }
   ],
   "source": [
    "def get_combinations(sum,nums):\n",
    "    count = 0\n",
    "    for i, num in enumerate(nums):\n",
    "        quotient = int(sum / num)\n",
    "        remainder = sum % num\n",
    "        if quotient > 0:\n",
    "            add = 0\n",
    "            if remainder == 0:\n",
    "                add = 1\n",
    "            else:    \n",
    "                sub_comb = counts[remainder]#get_combinations(remainder, nums[i + 1:])\n",
    "                if sub_comb > 0:\n",
    "                    add = sub_comb + 1\n",
    "                    \n",
    "            if add:\n",
    "                count += add + quotient * counts[num]#get_combinations(num, nums[i:])\n",
    "\n",
    "    return count\n",
    "\n",
    "counts = {3:2,2:1,1:0}\n",
    "sum = 6\n",
    "nums = [3,2,1]\n",
    "print(get_combinations(sum, nums))"
   ]
  },
  {
   "cell_type": "code",
   "execution_count": 89,
   "metadata": {
    "collapsed": false
   },
   "outputs": [
    {
     "name": "stdout",
     "output_type": "stream",
     "text": [
      "1\n"
     ]
    }
   ],
   "source": [
    "def get_combinations(sum, nums):\n",
    "    count = 0\n",
    "    for i, num in enumerate(nums):\n",
    "        quotient = int(sum / num)\n",
    "        remainder = sum % num\n",
    "        if quotient > 0:\n",
    "            add = 0\n",
    "            if remainder == 0:\n",
    "                count += 1\n",
    "            else:\n",
    "                sub_comb = get_combinations(remainder, nums[1:])\n",
    "                if add > 0:\n",
    "                    count += sub_comb + 1\n",
    "            # recursion action here?        \n",
    "            count += get_combinations(rem + num, nums[i + 1:])\n",
    "\n",
    "    return count\n",
    "    \n",
    "    ##\n",
    "    #sum = rem\n",
    "    #num = nums[1]\n",
    "    #quo = sum / num\n",
    "    #rem = sum % num\n",
    "    ##  \n",
    "        \n",
    "    #num = nums[1]\n",
    "    #sum = num\n",
    "    #quo = sum / num\n",
    "    #rem = sum % num\n",
    "    \n",
    "    \n",
    "sum = 4\n",
    "nums = [2,1]\n",
    "print(get_combinations(sum, nums))"
   ]
  },
  {
   "cell_type": "markdown",
   "metadata": {},
   "source": [
    "Another recursion attempt. This time successful?"
   ]
  },
  {
   "cell_type": "code",
   "execution_count": 14,
   "metadata": {
    "collapsed": false
   },
   "outputs": [
    {
     "name": "stdout",
     "output_type": "stream",
     "text": [
      "7\n"
     ]
    }
   ],
   "source": [
    "def get_combinations(sum, nums):\n",
    "    count = 0\n",
    "    for i, num in enumerate(nums):\n",
    "        quo = int(sum / num)\n",
    "        rem = sum % num\n",
    "        while quo > 0:\n",
    "            if rem == 0:\n",
    "                count += 1\n",
    "            elif len(nums) > i + 1:\n",
    "                sub_comb = get_combinations(rem, nums[i + 1:])\n",
    "                if sub_comb > 0:\n",
    "                    count += sub_comb\n",
    "            quo -= 1\n",
    "            rem += num\n",
    "            \n",
    "    return count\n",
    "    \n",
    "#sum = 4\n",
    "#nums = [3,2,1]\n",
    "sum = 12\n",
    "nums = [2,1]\n",
    "print(get_combinations(sum, nums))"
   ]
  },
  {
   "cell_type": "code",
   "execution_count": 63,
   "metadata": {
    "collapsed": false
   },
   "outputs": [
    {
     "name": "stdout",
     "output_type": "stream",
     "text": [
      "352194\n",
      "855\n",
      "40568\n"
     ]
    }
   ],
   "source": [
    "#import ctypes\n",
    "\n",
    "c = 0\n",
    "stored_combs = {}\n",
    "def get_combinations(sum, nums):\n",
    "    global c\n",
    "    global stored_combs\n",
    "    #print(\"checking ways to make \" + str(sum) + \" with \" + str(nums))\n",
    "    hashi = hash(str(sum) + str(nums))\n",
    "    #hashi = ctypes.c_size_t(hash(str(sum) + str(nums))).value\n",
    "    if hashi in stored_combs:\n",
    "        return stored_combs[hashi]\n",
    "    #print(\"c  before: \" + str(c))\n",
    "    count = 0\n",
    "    for i, num in enumerate(nums):\n",
    "        c += 1\n",
    "        quo = int(sum / num)\n",
    "        rem = sum % num\n",
    "        while quo > 0:\n",
    "            c += 1\n",
    "            if rem == 0:\n",
    "                count += 1\n",
    "            elif len(nums) > i + 1:\n",
    "                sub_comb = get_combinations(rem, nums[i + 1:])\n",
    "                if sub_comb > 0:\n",
    "                    count += sub_comb\n",
    "            quo -= 1\n",
    "            rem += num\n",
    "            \n",
    "    #print(\"c  after: \" + str(c))\n",
    "            \n",
    "    stored_combs[hashi] = count\n",
    "    return count\n",
    "    \n",
    "sum = 171\n",
    "nums = [1,2,3,4,5]\n",
    "#nums = [5,4,3,2,1]\n",
    "#sum = 12\n",
    "#nums = [2,1]\n",
    "print(get_combinations(sum, nums))\n",
    "print(len(nums) * sum)\n",
    "print(c)"
   ]
  },
  {
   "cell_type": "markdown",
   "metadata": {},
   "source": [
    "Interview cake example solution has about the same initial time complexity but it does more recursion calls which means storing recursion function results into a lookup table improves efficiency more.\n",
    "\n",
    "No need to hash here by the way. A string will do. Dict takes care of hashing."
   ]
  },
  {
   "cell_type": "code",
   "execution_count": 68,
   "metadata": {
    "collapsed": false
   },
   "outputs": [
    {
     "name": "stdout",
     "output_type": "stream",
     "text": [
      "checking ways to make 4 with [1, 2, 3]\n",
      "checking ways to make 4 with [2, 3]\n",
      "checking ways to make 4 with [3]\n",
      "0\n",
      "checking ways to make 2 with [3]\n",
      "0\n",
      "1\n",
      "checking ways to make 3 with [2, 3]\n",
      "checking ways to make 3 with [3]\n",
      "1\n",
      "checking ways to make 1 with [3]\n",
      "0\n",
      "1\n",
      "checking ways to make 2 with [2, 3]\n",
      "1\n",
      "checking ways to make 1 with [2, 3]\n",
      "0\n",
      "4\n",
      "4\n",
      "12\n",
      "19\n"
     ]
    }
   ],
   "source": [
    "c = 0\n",
    "stored_combs = {}\n",
    "\n",
    "def change_possibilities_top_down(amount_left, denominations, current_index=0):\n",
    "    global c\n",
    "    global stored_combs\n",
    "    \n",
    "    key = str(amount_left) + str(denominations) + str(current_index)\n",
    "    if key in stored_combs:\n",
    "        return stored_combs[key]\n",
    "    \n",
    "    # base cases:\n",
    "    # we hit the amount spot on. yes!\n",
    "    if amount_left == 0: return 1\n",
    "\n",
    "    # we overshot the amount left (used too many coins)\n",
    "    if amount_left < 0: return 0\n",
    "\n",
    "    # we're out of denominations\n",
    "    if current_index == len(denominations): return 0\n",
    "\n",
    "    print(\"checking ways to make %i with %s\" % (amount_left, denominations[current_index:]))\n",
    "\n",
    "    # choose a current coin\n",
    "    current_coin = denominations[current_index]\n",
    "    \n",
    "\n",
    "    # see how many possibilities we can get\n",
    "    # for each number of times to use current_coin\n",
    "    num_possibilities = 0\n",
    "    while amount_left >= 0:\n",
    "        c += 1\n",
    "        num_possibilities += change_possibilities_top_down(amount_left, denominations, current_index + 1)\n",
    "        amount_left -= current_coin\n",
    "\n",
    "    stored_combs[key] = num_possibilities\n",
    "    print(num_possibilities)\n",
    "    return num_possibilities\n",
    "\n",
    "sum = 4\n",
    "nums = [1,2,3]\n",
    "#nums = [1,2,3,4,5]\n",
    "\n",
    "print(change_possibilities_top_down(sum, nums))\n",
    "print(len(nums) * sum)\n",
    "print(c)"
   ]
  },
  {
   "cell_type": "markdown",
   "metadata": {},
   "source": []
  },
  {
   "cell_type": "code",
   "execution_count": 77,
   "metadata": {
    "collapsed": false
   },
   "outputs": [
    {
     "name": "stdout",
     "output_type": "stream",
     "text": [
      "{1: 0, 2: 0}\n"
     ]
    }
   ],
   "source": [
    "def change_possibilities_bottom_up(amount, denominations):\n",
    "    ways_of_doing_n_cents = {}.fromkeys(denominations, 0)\n",
    "    for denomination in denominations:\n",
    "        sub_amount = 0\n",
    "        while sub_amount <= amount:\n",
    "            sub_amount += denomination\n",
    "    \n",
    "amount = 4\n",
    "denominations = [1,2]\n",
    "change_possibilities_bottom_up(amount, denominations)"
   ]
  },
  {
   "cell_type": "markdown",
   "metadata": {},
   "source": [
    "Interview cake optimal bottom-up solution."
   ]
  },
  {
   "cell_type": "code",
   "execution_count": 82,
   "metadata": {
    "collapsed": false
   },
   "outputs": [
    {
     "name": "stdout",
     "output_type": "stream",
     "text": [
      "[1, 0, 0, 0, 0]\n"
     ]
    },
    {
     "data": {
      "text/plain": [
       "3"
      ]
     },
     "execution_count": 82,
     "metadata": {},
     "output_type": "execute_result"
    }
   ],
   "source": [
    "def change_possibilities_bottom_up(amount, denominations):\n",
    "    ways_of_doing_n_cents = [0] * (amount + 1)\n",
    "    ways_of_doing_n_cents[0] = 1\n",
    "    print(ways_of_doing_n_cents)\n",
    "\n",
    "    for coin in denominations:\n",
    "        for higher_amount in range(coin, amount + 1):\n",
    "            higher_amount_remainder = higher_amount - coin\n",
    "            ways_of_doing_n_cents[higher_amount] += ways_of_doing_n_cents[higher_amount_remainder]\n",
    "\n",
    "    return ways_of_doing_n_cents[amount]\n",
    "\n",
    "amount = 4\n",
    "denominations = [1,2]\n",
    "change_possibilities_bottom_up(amount, denominations)"
   ]
  }
 ],
 "metadata": {
  "anaconda-cloud": {},
  "kernelspec": {
   "display_name": "Python [conda env:practice-problems]",
   "language": "python",
   "name": "conda-env-practice-problems-py"
  },
  "language_info": {
   "codemirror_mode": {
    "name": "ipython",
    "version": 3
   },
   "file_extension": ".py",
   "mimetype": "text/x-python",
   "name": "python",
   "nbconvert_exporter": "python",
   "pygments_lexer": "ipython3",
   "version": "3.5.2"
  }
 },
 "nbformat": 4,
 "nbformat_minor": 2
}
